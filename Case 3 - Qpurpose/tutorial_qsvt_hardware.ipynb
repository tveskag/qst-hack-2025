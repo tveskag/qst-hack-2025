{
  "cells": [
    {
      "cell_type": "code",
      "execution_count": null,
      "metadata": {
        "collapsed": false
      },
      "outputs": [],
      "source": [
        "# This cell is added by sphinx-gallery\n# It can be customized to whatever you like\n%matplotlib inline"
      ]
    },
    {
      "cell_type": "markdown",
      "metadata": {},
      "source": [
        "# How to implement QSVT on hardware\n\nThe\n`quantum singular value transform (QSVT) </demos/tutorial_intro_qsvt>`{.interpreted-text\nrole=\"doc\"} is a quantum algorithm that allows us to perform polynomial\ntransformations on matrices or operators, and it is rapidly becoming a\ngo-to algorithm for\n`quantum application research </demos/tutorial_apply_qsvt>`{.interpreted-text\nrole=\"doc\"} in the [ISQ\nera](https://pennylane.ai/blog/2023/06/from-nisq-to-isq/).\n\nIn this how-to guide, we will show how we can implement the QSVT\nsubroutine in a hardware-compatible way, taking your application\nresearch to the next level.\n\n![](../_static/demo_thumbnails/opengraph_demo_thumbnails/OGthumbnail_qsvt_hardware.png){.align-center\nwidth=\"50.0%\"}\n\n## Calculating angles\n\nOur goal is to apply a polynomial transformation to a given Hamiltonian,\ni.e., $p(\\mathcal{H}).$ To achieve this, we must consider the two\nfundamental components of the QSVT algorithm:\n\n-   **Projection angles**: A list of angles that will determine the\n    coefficients of the polynomial to be applied.\n-   **Block encoding**: The strategy used to encode the Hamiltonian. We\n    will use the\n    `linear combinations of unitaries <demos/tutorial_lcu_blockencoding>`{.interpreted-text\n    role=\"doc\"} approach via the PennyLane\n    `~.qml.PrepSelPrep`{.interpreted-text role=\"class\"} operation.\n\nCalculating angles is not a trivial task, but we can use the PennyLane\nfunction `~.pennylane.poly_to_angles`{.interpreted-text role=\"func\"} to\nobtain them. There are also tools such as\n[pyqsp](https://github.com/ichuang/pyqsp/tree/master/pyqsp) that can do\nthe job for us. Let\\'s try both tools to calculate the angles for\napplying the polynomial $p(x) = -x + \\frac{x^3}{2}+ \\frac{x^5}{2}$.\n\nThe `~.pennylane.poly_to_angles`{.interpreted-text role=\"func\"} function\nin PennyLane accepts the coefficients of the polynomial, ordered from\nlowest to highest power, as input. We also need to define the routine\nfor which the angles are computed, which is `'QSVT'` here.\n"
      ]
    },
    {
      "cell_type": "code",
      "execution_count": null,
      "metadata": {
        "collapsed": false
      },
      "outputs": [],
      "source": [
        "import pennylane as qml\npoly = [0, -1.0, 0, 1/2, 0, 1/2]\nangles_pl = qml.poly_to_angles(poly, \"QSVT\")\nprint(angles_pl)"
      ]
    },
    {
      "cell_type": "markdown",
      "metadata": {},
      "source": [
        "To find the angles with `pyqsp` we can run this code:\n\n``` python\nfrom pyqsp.angle_sequence import QuantumSignalProcessingPhases\nimport numpy as np\n\nang_seq = QuantumSignalProcessingPhases(np.array(poly), signal_operator=\"Wx\")\n```\n\nThe angles obtained after execution are as follows:\n"
      ]
    },
    {
      "cell_type": "code",
      "execution_count": null,
      "metadata": {
        "collapsed": false
      },
      "outputs": [],
      "source": [
        "ang_seq = [\n    -1.5115007723754004,\n    0.6300762184670975,\n    0.8813995564082947,\n    -2.2601930971815003,\n    3.7716688720568885,\n    0.059295554419495855,\n]"
      ]
    },
    {
      "cell_type": "markdown",
      "metadata": {},
      "source": [
        "The `pyqsp` angles are obtained in the context of QSP and are not the\nsame as the ones we have to use in QSVT. We can use the\n`~.pennylane.transform_angles`{.interpreted-text role=\"func\"} function\nto transform the angles:\n"
      ]
    },
    {
      "cell_type": "code",
      "execution_count": null,
      "metadata": {
        "collapsed": false
      },
      "outputs": [],
      "source": [
        "angles_pyqsp = qml.transform_angles(ang_seq, \"QSP\", \"QSVT\")\nprint(angles_pyqsp)"
      ]
    },
    {
      "cell_type": "markdown",
      "metadata": {},
      "source": [
        "Note that these angles are not exactly the same as those obtained with\n`~.pennylane.poly_to_angles`{.interpreted-text role=\"func\"}, but they\nwill both produce the same polynomial transformation. Using the angles\ncomputed with `~.pennylane.poly_to_angles`{.interpreted-text\nrole=\"func\"} or `pyqsp`, we can now start working with the template.\n\n# QSVT on hardware\n\nThe `~.qml.QSVT`{.interpreted-text role=\"class\"} template expects two\ninputs. The first one is the block encoding operator,\n`~.qml.PrepSelPrep`{.interpreted-text role=\"class\"}, and the second one\nis a set of projection operators, `~.qml.PCPhase`{.interpreted-text\nrole=\"class\"}, that encode the angles properly. We will see how to apply\nthem later, but first let\\'s define a Hamiltonian and manually apply the\npolynomial of interest:\n"
      ]
    },
    {
      "cell_type": "code",
      "execution_count": null,
      "metadata": {
        "collapsed": false
      },
      "outputs": [],
      "source": [
        "import pennylane as qml\nimport numpy as np\nfrom numpy.linalg import matrix_power as mpow\n\ncoeffs = np.array([0.2, -0.7, -0.6])\ncoeffs /= np.linalg.norm(coeffs, ord=1)  # Normalize the coefficients\n\nobs = [qml.X(3), qml.X(3) @ qml.Z(4), qml.Z(3) @ qml.Y(4)]\n\nH = qml.dot(coeffs, obs)\n\nH_mat = qml.matrix(H, wire_order=[3, 4])\n\n# We calculate p(H) = -H + 0.5 * H^3 + 0.5 * H^5\nH_poly = -H_mat + 0.5 * mpow(H_mat, 3) + 0.5 * mpow(H_mat, 5)\n\nprint(np.round(H_poly, 4))"
      ]
    },
    {
      "cell_type": "markdown",
      "metadata": {},
      "source": [
        "Now that we know what the target result is, let\\'s see how to apply the\npolynomial with a quantum circuit instead. We start by defining the\nproper input operators for the `~.qml.QSVT`{.interpreted-text\nrole=\"class\"} template.\n"
      ]
    },
    {
      "cell_type": "code",
      "execution_count": null,
      "metadata": {
        "collapsed": false
      },
      "outputs": [],
      "source": [
        "# We need |log2(len(coeffs))| = 2 control wires to encode the Hamiltonian\ncontrol_wires = [1, 2]\nblock_encode = qml.PrepSelPrep(H, control=control_wires)\n\nprojectors = [\n    qml.PCPhase(angles_pl[i], dim=2 ** len(H.wires), wires=control_wires + H.wires)\n    for i in range(len(angles_pl))\n]\n\n\ndev = qml.device(\"default.qubit\")\n\n@qml.qnode(dev)\ndef circuit():\n\n    qml.Hadamard(0)\n    qml.ctrl(qml.QSVT, control=0, control_values=[1])(block_encode, projectors)\n    qml.ctrl(qml.adjoint(qml.QSVT), control=0, control_values=[0])(block_encode, projectors)\n    qml.Hadamard(0)\n\n    return qml.state()\n\n\nmatrix = qml.matrix(circuit, wire_order=[0] + control_wires + H.wires)()\nprint(np.round(matrix[: 2 ** len(H.wires), : 2 ** len(H.wires)], 4))"
      ]
    },
    {
      "cell_type": "markdown",
      "metadata": {},
      "source": [
        "The matrix obtained using QSVT is the same as the one obtained by\napplying the polynomial directly to the Hamiltonian! That means the\ncircuit is encoding $p(\\mathcal{H})$ correctly. The great advantage of\nthis approach is that all the building blocks used in the circuit can be\ndecomposed into basic gates easily, allowing this circuit to be easily\nexecuted on hardware devices with PennyLane.\n\nPlease also note that QSVT encodes the desired polynomial\n$p(\\mathcal{H})$ as well as a polynomial $i q(\\mathcal{H}).$ To isolate\n$p(\\mathcal{H}),$ we have used an auxiliary qubit and considered that\nthe sum of a complex number and its conjugate gives us twice its real\npart. We recommend\n`this demo </demos/tutorial_apply_qsvt>`{.interpreted-text role=\"doc\"}\nto learn more about the structure of the circuit.\n\n# Conclusion\n\nIn this brief how-to we demonstrated applying QSVT on a sample\nHamiltonian. Note that the algorithm is sensitive to the block-encoding\nmethod, so please make sure that the projection angles are converted to\nthe proper format. This how-to serves as a guide for running your own\nworkflows and experimenting with more advanced Hamiltonians and\npolynomial functions.\n\n# References\n\n# About the author\n"
      ]
    }
  ],
  "metadata": {
    "kernelspec": {
      "display_name": "Python 3",
      "language": "python",
      "name": "python3"
    },
    "language_info": {
      "codemirror_mode": {
        "name": "ipython",
        "version": 3
      },
      "file_extension": ".py",
      "mimetype": "text/x-python",
      "name": "python",
      "nbconvert_exporter": "python",
      "pygments_lexer": "ipython3",
      "version": "3.10.16"
    }
  },
  "nbformat": 4,
  "nbformat_minor": 0
}